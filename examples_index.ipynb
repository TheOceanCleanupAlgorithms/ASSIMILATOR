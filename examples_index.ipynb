{
 "metadata": {
  "language_info": {
   "codemirror_mode": {
    "name": "ipython",
    "version": 3
   },
   "file_extension": ".py",
   "mimetype": "text/x-python",
   "name": "python",
   "nbconvert_exporter": "python",
   "pygments_lexer": "ipython3",
   "version": "3.7.10-final"
  },
  "orig_nbformat": 2,
  "kernelspec": {
   "name": "python3",
   "display_name": "Python 3",
   "language": "python"
  }
 },
 "nbformat": 4,
 "nbformat_minor": 2,
 "cells": [
  {
   "source": [
    "# Running the experiment of the paper with the double gyre"
   ],
   "cell_type": "markdown",
   "metadata": {}
  },
  {
   "source": [
    "## 1. Download the data, if necessary"
   ],
   "cell_type": "markdown",
   "metadata": {}
  },
  {
   "cell_type": "code",
   "execution_count": null,
   "metadata": {},
   "outputs": [],
   "source": [
    "import wget\n",
    "from pathlib import Path\n",
    "\n",
    "files_to_download = [\"parts_double_gyre_ref_eps_0.25_A_0.1175_as_2.nc\", \"parts_double_gyre_ref_eps_0.25_A_0.105_as_2.nc\",\n",
    "\"parts_double_gyre_ref_eps_0.25_A_0.11_as_2.nc\",\n",
    "\"parts_double_gyre_ref_eps_0.25_A_0.125_as_2.nc\",\n",
    "\"parts_double_gyre_ref_eps_0.25_A_0.1_as_2.nc\",\n",
    "\"parts_double_gyre_ref_eps_0.35_A_0.1_as_2.nc\",\n",
    "\"parts_double_gyre_ref_eps_0.3_A_0.1_as_2.nc\",\n",
    "\"parts_double_gyre_ref_eps_0.4_A_0.1_as_2.nc\",\n",
    "\"parts_double_gyre_ref_eps_0.5_A_0.1_as_2.nc\",\n",
    "\"parts_double_gyre_ref_eps_0_A_0.1_as_2.nc\",\n",
    "\"parts_double_gyre_ref_eps_1_A_0.1_as_2.nc\",\n",
    "\"parts_double_gyre_standard_as_3.nc\"]\n",
    "\n",
    "Path(\"data/\").mkdir(exist_ok=True)\n",
    "for file_to_download in files_to_download:\n",
    "  if not Path(f\"data/{file_to_download}\").exists():\n",
    "    print(f\"Downloading {file_to_download}...\")\n",
    "    wget.download(f\"https://zenodo.org/record/4426130/files/{file_to_download}\", f\"data/{file_to_download}\")\n",
    "\n",
    "print(\"All files required for experiment have been downloaded\")"
   ]
  },
  {
   "source": [
    "## 2. Run the assimilator double gyre experiments on double gyre files"
   ],
   "cell_type": "markdown",
   "metadata": {}
  },
  {
   "cell_type": "code",
   "execution_count": null,
   "metadata": {
    "tags": []
   },
   "outputs": [],
   "source": [
    "from src.run_assimilator import run_assimilator\n",
    "\n",
    "# Change the following parameters to reproduce the experimental results\n",
    "# Changing A and epsilon will require to have downloaded the corresponding files.\n",
    "# If you are trying values of A and epsilon that do not have a corresponding dispersion file, you will have to generate it with the double gyre code\n",
    "\n",
    "mu = 2\n",
    "A = 0.1175\n",
    "epsilon = 0.25\n",
    "sigma_rel = 0.01\n",
    "\n",
    "if __name__ == \"__main__\":\n",
    "    run_assimilator(\n",
    "        particles_dataset_path=\"data/parts_double_gyre_standard_as_3.nc\",\n",
    "        observations_type=\"from_simulation\",\n",
    "        observations_source_path=f\"data/parts_double_gyre_ref_eps_{epsilon}_A_{A}_as_2.nc\",\n",
    "        simulation_name=f\"mu_{mu}_A_{A}_eps_{epsilon}_sigma_rel_{sigma_rel}\",\n",
    "        assimilation_domain_coords=(195, 20, 225, 40),\n",
    "        assimilation_grid_size=(60, 40),\n",
    "        size_ensemble=10,\n",
    "        initial_ensemble_spread_percent=0.05,\n",
    "        t_start=0,\n",
    "        t_end=2000,\n",
    "        observations_error_percent=sigma_rel,\n",
    "        observation_locations=[(12, 4), (55, 27)],\n",
    "        initial_mass_multiplicator=mu,\n",
    "    )"
   ]
  },
  {
   "cell_type": "code",
   "execution_count": null,
   "metadata": {},
   "outputs": [],
   "source": []
  }
 ]
}