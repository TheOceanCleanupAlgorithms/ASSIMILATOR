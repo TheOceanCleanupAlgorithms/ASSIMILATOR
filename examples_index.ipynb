{
 "metadata": {
  "language_info": {
   "codemirror_mode": {
    "name": "ipython",
    "version": 3
   },
   "file_extension": ".py",
   "mimetype": "text/x-python",
   "name": "python",
   "nbconvert_exporter": "python",
   "pygments_lexer": "ipython3",
   "version": "3.8.8-final"
  },
  "orig_nbformat": 2,
  "kernelspec": {
   "name": "python3",
   "display_name": "Python 3",
   "language": "python"
  }
 },
 "nbformat": 4,
 "nbformat_minor": 2,
 "cells": [
  {
   "source": [
    "# Running the experiments of the paper"
   ],
   "cell_type": "markdown",
   "metadata": {}
  },
  {
   "source": [
    "## 1. Run the assimilator double gyre experiments on double gyre files"
   ],
   "cell_type": "markdown",
   "metadata": {}
  },
  {
   "cell_type": "code",
   "execution_count": null,
   "metadata": {},
   "outputs": [],
   "source": [
    "# Download the data, if necessary\n",
    "\n",
    "import wget\n",
    "from pathlib import Path\n",
    "\n",
    "files_to_download = [\"parts_double_gyre_ref_eps_0.25_A_0.1175_as_2.nc\", \"parts_double_gyre_ref_eps_0.25_A_0.105_as_2.nc\",\n",
    "\"parts_double_gyre_ref_eps_0.25_A_0.11_as_2.nc\",\n",
    "\"parts_double_gyre_ref_eps_0.25_A_0.125_as_2.nc\",\n",
    "\"parts_double_gyre_ref_eps_0.25_A_0.1_as_2.nc\",\n",
    "\"parts_double_gyre_ref_eps_0.35_A_0.1_as_2.nc\",\n",
    "\"parts_double_gyre_ref_eps_0.3_A_0.1_as_2.nc\",\n",
    "\"parts_double_gyre_ref_eps_0.4_A_0.1_as_2.nc\",\n",
    "\"parts_double_gyre_ref_eps_0.5_A_0.1_as_2.nc\",\n",
    "\"parts_double_gyre_ref_eps_0_A_0.1_as_2.nc\",\n",
    "\"parts_double_gyre_ref_eps_1_A_0.1_as_2.nc\",\n",
    "\"parts_double_gyre_standard_as_3.nc\"]\n",
    "\n",
    "Path(\"data/\").mkdir(exist_ok=True)\n",
    "for file_to_download in files_to_download:\n",
    "  if not Path(f\"data/{file_to_download}\").exists():\n",
    "    print(f\"Downloading {file_to_download}...\")\n",
    "    wget.download(f\"https://zenodo.org/record/4426130/files/{file_to_download}\", f\"data/{file_to_download}\")\n",
    "\n",
    "print(\"All files required for experiment have been downloaded\")"
   ]
  },
  {
   "cell_type": "code",
   "execution_count": null,
   "metadata": {
    "tags": []
   },
   "outputs": [],
   "source": [
    "from src.run_assimilator import run_assimilator\n",
    "\n",
    "# Change the following parameters to reproduce the experimental results\n",
    "# Changing A and epsilon will require to have downloaded the corresponding files.\n",
    "# If you are trying values of A and epsilon that do not have a corresponding dispersion file, you will have to generate it with the double gyre code\n",
    "\n",
    "mu = 2\n",
    "A = 0.1175\n",
    "epsilon = 0.25\n",
    "sigma_rel = 0.01\n",
    "\n",
    "if __name__ == \"__main__\":\n",
    "    run_assimilator(\n",
    "        particles_dataset_path=\"data/parts_double_gyre_standard_as_3.nc\",\n",
    "        observations_type=\"from_simulation\",\n",
    "        observations_source_path=f\"data/parts_double_gyre_ref_eps_{epsilon}_A_{A}_as_2.nc\",\n",
    "        simulation_name=f\"mu_{mu}_A_{A}_eps_{epsilon}_sigma_rel_{sigma_rel}\",\n",
    "        assimilation_domain_coords=(195, 20, 225, 40),\n",
    "        assimilation_grid_size=(60, 40),\n",
    "        size_ensemble=10,\n",
    "        initial_ensemble_spread_percent=0.05,\n",
    "        t_start=0,\n",
    "        t_end=2000,\n",
    "        observations_error_percent=sigma_rel,\n",
    "        observation_locations=[(12, 4), (55, 27)],\n",
    "        initial_mass_multiplicator=mu,\n",
    "    )"
   ]
  },
  {
   "source": [
    "## 2. Run a self-assimilation experiment with observation sampled a dispersion model assimilated into another dispersion model"
   ],
   "cell_type": "markdown",
   "metadata": {}
  },
  {
   "cell_type": "code",
   "execution_count": null,
   "metadata": {},
   "outputs": [],
   "source": [
    "# First, prepare the data\n",
    "\n",
    "import xarray as xr\n",
    "import numpy as np\n",
    "from datetime import datetime\n",
    "from dask.diagnostics import ProgressBar\n",
    "\n",
    "ds_in = xr.open_dataset(\"data/advector_output_coastal_2012.nc\", chunks=\"auto\")\n",
    "years_release = ds_in.release_date.dt.year\n",
    "days_release = ds_in.release_date.dt.dayofyear\n",
    "arg_release = (years_release - 1993) + days_release / 366\n",
    "\n",
    "def increasing_sine(x):\n",
    "    return x + (1 / (2 * np.pi)) * np.sin(2 * np.pi * x + np.pi)\n",
    "\n",
    "ds_in[\"weight\"] = 1 + increasing_sine(arg_release)\n",
    "with ProgressBar():\n",
    "    ds_in.to_netcdf(\"data/advector_output_coastal_2012_adapted.nc\")"
   ]
  },
  {
   "cell_type": "code",
   "execution_count": null,
   "metadata": {},
   "outputs": [],
   "source": [
    "from src.run_assimilator import run_assimilator\n",
    "\n",
    "if __name__ == \"__main__\":\n",
    "    run_assimilator(\n",
    "        particles_dataset_path=\"data/advector_output_rivers_2012.nc\",\n",
    "        observations_type=\"from_simulation\",\n",
    "        observations_source_path=\"data/advector_output_coastal_2012_adapted.nc\",\n",
    "        assimilation_domain_coords=(195 - 360, 23, 235 - 360, 45),\n",
    "        assimilation_grid_size=(int(40 / 0.5), int(22 / 0.5)),\n",
    "        size_ensemble=10,\n",
    "        initial_ensemble_spread_percent=0.05,\n",
    "        observations_error_percent=0.01,\n",
    "        observation_locations=[(12, 4), (55, 27)],\n",
    "        t_start=0,\n",
    "        t_end=360,\n",
    "        initial_mass_multiplicator=1,\n",
    "        radius_observation=np.inf,\n",
    "        simulation_name=\"self_assimilation_gpgp_inf\"\n",
    "    )\n"
   ]
  },
  {
   "cell_type": "code",
   "execution_count": null,
   "metadata": {},
   "outputs": [],
   "source": [
    "import xarray as xr\n",
    "import matplotlib.pyplot as plt\n",
    "import cartopy.crs as ccrs\n",
    "import cartopy as cart\n",
    "\n",
    "ds_ref = xr.open_dataset(\"data/data_self_assimilation_gpgp/densities_ref_self_assimilation_gpgp.nc\")\n",
    "ds_assimilated = xr.open_dataset(\"data/data_self_assimilation_gpgp_inf/densities_ensemble_self_assimilation_gpgp_inf.nc\")\n",
    "ds_not_assimilated = xr.open_dataset(\"data/data_self_assimilation_gpgp_inf/densities_ensemble_self_assimilation_gpgp_inf_init.nc\")\n",
    "\n",
    "assimilated_differences_ensembles = ds_assimilated.density - ds_not_assimilated.density\n",
    "assimilated_differences_end = assimilated_differences_ensembles.mean(dim=\"ensemble\").isel(time=360)\n",
    "assimilated_differences_end['lon'] = 195 + (assimilated_differences_end.lon * 0.5)\n",
    "assimilated_differences_end['lat'] = 23 + (assimilated_differences_end.lat * 0.5)\n",
    "\n",
    "assimilated_forecast = ds_assimilated.density.mean(dim=\"ensemble\").isel(time=360)\n",
    "assimilated_forecast['lon'] = 195 + (assimilated_forecast.lon * 0.5)\n",
    "assimilated_forecast['lat'] = 23 + (assimilated_forecast.lat * 0.5)\n",
    "\n",
    "fig, axes = plt.subplots(subplot_kw={'projection': ccrs.PlateCarree()}, figsize=(16,8))\n",
    "axes.coastlines()\n",
    "axes.add_feature(cart.feature.LAND, zorder=100, edgecolor=\"k\")\n",
    "axes.add_feature(cart.feature.OCEAN, zorder=-100, edgecolor=\"k\")\n",
    "\n",
    "p1 = assimilated_differences_end.transpose().plot(ax=axes, transform=ccrs.PlateCarree(), robust=True)\n",
    "p1.axes.set_extent([185, 250, 15, 50])"
   ]
  },
  {
   "cell_type": "code",
   "execution_count": null,
   "metadata": {},
   "outputs": [],
   "source": []
  }
 ]
}