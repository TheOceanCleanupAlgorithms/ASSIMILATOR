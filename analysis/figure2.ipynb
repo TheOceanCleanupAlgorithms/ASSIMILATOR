{
 "metadata": {
  "language_info": {
   "codemirror_mode": {
    "name": "ipython",
    "version": 3
   },
   "file_extension": ".py",
   "mimetype": "text/x-python",
   "name": "python",
   "nbconvert_exporter": "python",
   "pygments_lexer": "ipython3",
   "version": "3.8.5-final"
  },
  "orig_nbformat": 2,
  "kernelspec": {
   "name": "Python 3.8.5 64-bit ('assimilation-plastic-p1OWX2qJ-py3.8')",
   "display_name": "Python 3.8.5 64-bit ('assimilation-plastic-p1OWX2qJ-py3.8')",
   "metadata": {
    "interpreter": {
     "hash": "136d7831d69e4b2918e5550ad184ae21f22da49ae2b6449a866932f39def81fa"
    }
   }
  }
 },
 "nbformat": 4,
 "nbformat_minor": 2,
 "cells": [
  {
   "cell_type": "markdown",
   "metadata": {},
   "source": [
    "# Why this notebook?\n",
    "This notebook is to help find the right way to plot a covariance map for the paper\n",
    "\n",
    "The code is then to be used in the func gen_cov_map that will output a good covariance map during a simulation."
   ]
  },
  {
   "cell_type": "code",
   "execution_count": null,
   "metadata": {},
   "outputs": [],
   "source": [
    "import matplotlib.pyplot as plt\n",
    "import numpy as np\n",
    "import seaborn as sns\n",
    "import netCDF4 as nc\n",
    "from sim_vars import LONGITUDES, LATITUDES, ds_densities_ref_path\n",
    "\n",
    "n, p = LONGITUDES, LATITUDES\n",
    "dataset = np.array(nc.Dataset(ds_densities_ref_path)['density'][:,:,10])\n",
    "x,y = 30,20\n",
    "\n",
    "plt.figure(figsize=(12, 8))\n",
    "xlabels = np.full(LONGITUDES, \"\")\n",
    "xlabels[x] = x\n",
    "ylabels = np.full(LATITUDES, \"\")\n",
    "ylabels[y] = y\n",
    "sns.set_context(\"talk\")\n",
    "ax = sns.heatmap(\n",
    "    np.flip(dataset.transpose(), axis=0),\n",
    "    robust=True,\n",
    "    center=dataset[x, y],\n",
    "    xticklabels=False,\n",
    "    yticklabels=False,\n",
    "    cbar_kws={'ticks': None},\n",
    "    cmap=sns.cubehelix_palette(50, hue=0.05, rot=0, light=0.9, dark=0),\n",
    ")\n",
    "plt.xticks([x+0.5],[str(x)],rotation=90)\n",
    "plt.yticks([y+0.5],[str(y)])"
   ]
  },
  {
   "cell_type": "code",
   "execution_count": null,
   "metadata": {},
   "outputs": [],
   "source": []
  }
 ]
}