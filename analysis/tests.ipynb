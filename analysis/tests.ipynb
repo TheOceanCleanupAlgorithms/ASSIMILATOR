{
 "cells": [
  {
   "cell_type": "code",
   "execution_count": null,
   "metadata": {},
   "outputs": [],
   "source": [
    "import matplotlib.pyplot as plt\n",
    "import seaborn as sns\n",
    "import numpy as np\n",
    "import pandas as pd\n",
    "\n",
    "f = open(\"output/log.txt\")\n",
    "\n",
    "vals = []\n",
    "columns = []\n",
    "for i in range(10):\n",
    "    line = f.readline()\n",
    "    columns.append(line.split(\" at\")[0])\n",
    "    vals.append(float(line.split(\" \")[-1].replace(\"\\n\",\"\")))\n",
    "\n",
    "df = pd.DataFrame(columns=columns, data=[vals])\n",
    "\n",
    "for i in range(1, 160):\n",
    "    df2 = pd.DataFrame(data=[[float(f.readline().split(\" \")[-1].replace(\"\\n\",\"\")) for k in range(10)]], columns=columns)\n",
    "    df = df.append(df2)\n",
    "\n",
    "df['index'] = list(range(160))\n",
    "df = df.set_index('index')\n",
    "df.head()\n",
    "plt.figure(figsize=(20, 12))\n",
    "sns.lineplot(data=df[[columns[k] for k in [5,8,9]]]).get_figure().savefig(\"output/stats_densities_time\")\n",
    "plt.close('all')\n",
    "plt.figure(figsize=(20, 12))\n",
    "sns.lineplot(data=df[[columns[k] for k in [0,1,2,3,4]]]).get_figure().savefig(\"output/stats_weights_time\")\n",
    "plt.close('all')\n"
   ]
  },
  {
   "cell_type": "code",
   "execution_count": null,
   "metadata": {},
   "outputs": [],
   "source": [
    "from sim_vars import data_dir_path, T, ds_densities_sim_path\n",
    "import matplotlib.pyplot as plt\n",
    "import seaborn as sns\n",
    "import netCDF4 as nc\n",
    "import numpy as np\n",
    "\n",
    "def gen_heatmap_visu(dataset, name):\n",
    "    plt.figure(figsize=(20, 12))\n",
    "    sns.heatmap(dataset.transpose(), robust=True).get_figure().savefig(\"output/\" + name)\n",
    "\n",
    "def compute_avg_matrix(data, T):\n",
    "    n, p = len(data), len(data[0])\n",
    "    avg_data = np.zeros((n, p))\n",
    "    for i in range(n):\n",
    "        for j in range(p):\n",
    "            s = sum([data[i, j][t] for t in range(len(T))])\n",
    "            avg_data[i, j] = s / len(T)\n",
    "    return avg_data\n",
    "\n",
    "ds_densities_sim = nc.Dataset(ds_densities_sim_path, \"r\")\n",
    "densities_sim = np.array(ds_densities_sim[\"density\"][:, :, :])\n",
    "print(\"Computing averages for the year\")\n",
    "avgs_sim = compute_avg_matrix(densities_sim, T)\n",
    "# gen_heatmap_visu(avgs_sim, \"avg_densities_end\")\n",
    "sns.heatmap(avgs_sim.transpose())"
   ]
  },
  {
   "cell_type": "code",
   "execution_count": null,
   "metadata": {},
   "outputs": [],
   "source": [
    "import numpy as np\n",
    "from netCDF4 import Dataset\n",
    "from sim_vars import main_dir_path, ds_parts_useful_path, ds_parts_sim_path\n",
    "import matplotlib.pyplot as plt\n",
    "\n",
    "NB_PARTS = 50000\n",
    "NB_ITER = 200\n",
    "\n",
    "ds_parts_path = (\n",
    "    main_dir_path + \"parts_gen_vortex_\" + str(NB_PARTS) + \"_\" + str(NB_ITER) + \".nc\"\n",
    ")\n",
    "\n",
    "ds = Dataset(ds_parts_useful_path, 'r+')\n",
    "\n",
    "distance_to_center = lambda x,y: np.sqrt((x - 60) ** 2 + (y - 40) ** 2)\n",
    "\n",
    "distance_to_center(ds[\"lon\"][0][0], ds[\"lat\"][0][0])\n",
    "\n",
    "plt.plot(ds[\"lon\"][4502,:], ds['lat'][4502,:])\n",
    "ds[\"lon\"][4502,2], ds['lat'][4502,2]"
   ]
  },
  {
   "cell_type": "code",
   "execution_count": null,
   "metadata": {},
   "outputs": [],
   "source": [
    "import numpy as np\n",
    "import netCDF4 as nc\n",
    "from sim_vars import ds_parts_ensembles_path, ds_densities_ensembles_path, NB_ENSEMBLES\n",
    "\n",
    "ds_parts_useful = nc.Dataset(ds_parts_ensembles_path)\n",
    "ds_densities_ensembles = nc.Dataset(ds_densities_ensembles_path)\n",
    "a = ds_parts_useful[\"weight\"][:]\n",
    "a[:, 0]\n",
    "ds_densities_ensembles['density'][:,:,:,:].max()"
   ]
  },
  {
   "cell_type": "code",
   "execution_count": null,
   "metadata": {},
   "outputs": [],
   "source": [
    "import pandas as pd\n",
    "import numpy as np\n",
    "\n",
    "a = np.arange(4)\n",
    "a = a.reshape((2,2,1))\n",
    "a[1,1,0]"
   ]
  },
  {
   "cell_type": "code",
   "execution_count": null,
   "metadata": {},
   "outputs": [],
   "source": [
    "import netCDF4 as nc\n",
    "import seaborn as sns\n",
    "import numpy as np\n",
    "import pandas as pd\n",
    "from sim_vars import ds_densities_ref_path, main_dir_path, LONGITUDES, LATITUDES\n",
    "import matplotlib.pyplot as plt\n",
    "\n",
    "ds_densities_ref = nc.Dataset(ds_densities_ref_path)\n",
    "ds_densities_ref_2 = nc.Dataset(main_dir_path + \"data_double_gyre_ens_30_rad_10_devinit_0.5_obscov_10_iterstart_0_iterend_1950_nbobspoint_1//densities_double_gyre_ens_30_rad_10_devinit_0.5_obscov_10_iterstart_0_iterend_1950_nbobspoint_1_ref.nc\")\n",
    "\n",
    "np.std(ds_densities_ref_2[\"density\"][:,:,0] - ds_densities_ref[\"density\"][:,:,0])\n",
    "t=4\n",
    "sns.set_context('talk')\n",
    "data=(ds_densities_ref_2[\"density\"][:,:,t] - ds_densities_ref[\"density\"][:,:,t]).T\n",
    "plt.figure(figsize=(20,10))\n",
    "xlabels = np.full(LONGITUDES, \"\")\n",
    "xlabels[30] = \"x\"\n",
    "ax = sns.heatmap(data, xticklabels=xlabels, yticklabels=False, cmap=sns.diverging_palette(220, 10, as_cmap=True))\n",
    "ax.set(title=\"Diff matrix\")\n",
    "plt.show()"
   ]
  },
  {
   "cell_type": "code",
   "execution_count": null,
   "metadata": {},
   "outputs": [],
   "source": [
    "import netCDF4 as nc\n",
    "import seaborn as sns\n",
    "from sim_vars import main_dir_path\n",
    "\n",
    "ds_parts = nc.Dataset(main_dir_path + \"data_double_gyre_ens_30_rad_inf_devinit_1_obscov_100_iterstart_0_iterend_1950_nbobspoint_1_negatcorr_True//parts_ensembles_double_gyre_ens_30_rad_inf_devinit_1_obscov_100_iterstart_0_iterend_1950_nbobspoint_1_negatcorr_True30.nc\")\n",
    "\n",
    "ds_parts[\"weight\"][5,:]"
   ]
  },
  {
   "cell_type": "code",
   "execution_count": null,
   "metadata": {},
   "outputs": [],
   "source": [
    "(ds_parts3['lon'][0,:] - ds_parts2['lon'][0,:]).max()"
   ]
  },
  {
   "cell_type": "code",
   "execution_count": null,
   "metadata": {},
   "outputs": [],
   "source": [
    "ds_parts3.close()"
   ]
  },
  {
   "cell_type": "code",
   "execution_count": null,
   "metadata": {
    "tags": []
   },
   "outputs": [],
   "source": [
    "import seaborn as sns\n",
    "import numpy as np\n",
    "import netCDF4 as nc\n",
    "from sim_vars import ds_densities_ensembles_path, ds_densities_ref_path\n",
    "from sim_utils import compute_avg_ensembles_densities\n",
    "\n",
    "t = 0\n",
    "i = 1900\n",
    "\n",
    "ds_densities_ensembles = nc.Dataset(ds_densities_ensembles_path, \"r\")\n",
    "densities_ensembles = ds_densities_ensembles[\"density\"][:, :, :, t: t + i + 1]\n",
    "ds_densities_ensembles.close()\n",
    "\n",
    "avgs_densities = compute_avg_ensembles_densities(densities_ensembles, list(range(t, t+i+1)))[\n",
    "    :, :, :\n",
    "]\n",
    "\n",
    "ds_densities_ref = nc.Dataset(ds_densities_ref_path)\n",
    "densities_ref = ds_densities_ref[\"density\"][:,:,:]\n",
    "\n",
    "densities_difference_to_ref = avgs_densities - densities_ref[:, :, t: t + i + 1]\n",
    "densities_difference_to_ref_abs = np.abs(densities_difference_to_ref)"
   ]
  },
  {
   "cell_type": "code",
   "execution_count": null,
   "metadata": {},
   "outputs": [],
   "source": [
    "import pandas as pd\n",
    "\n",
    "selectedTimeSteps = [0,1,5,10,50,200,500,1000,1900]\n",
    "\n",
    "data = pd.DataFrame()\n",
    "for k in selectedTimeSteps:\n",
    "    data[k] = densities_difference_to_ref_abs[:,:,k].flatten()"
   ]
  },
  {
   "cell_type": "code",
   "execution_count": null,
   "metadata": {},
   "outputs": [],
   "source": [
    "import matplotlib.pyplot as plt\n",
    "from sim_vars import end_code_path\n",
    "\n",
    "sns.set(style=\"whitegrid\")\n",
    "sns.set_context(\"talk\")\n",
    "fig = plt.figure(figsize=(16, 10))\n",
    "ax = sns.boxplot(data=data[selectedTimeSteps], color=\"0.75\", showmeans=True)\n",
    "ax.set(xlabel=\"Iteration count \\n\", ylabel=\"Absolute density difference\")\n",
    "# ax.set(title=\"Evolution of density differences between forecast and real situation \\n\" + end_code_path)\n",
    "\n",
    "\"\"\"\n",
    "3 situations:\n",
    " - Diverges.\n",
    " - Converges towards wrong solution.\n",
    " - Converges towards right solution.\n",
    "\n",
    " METHOD\n",
    "Equations & Parameters\n",
    "Model description\n",
    "\n",
    "One more sim : With negative errors on weights\n",
    "\n",
    "Put captions before presenting and necessary informations.\n",
    "Make it clearer in a notebook when it comes to presenting the covariance matrix.\n",
    "\n",
    "Goal is to help the reader understand in simple terms.\n",
    "Compromise on what to explain or not. Think about the audience. If it's to be read by a skilled one, redact accordingly.\n",
    "It's about communicating with the readers.\n",
    "\"\"\""
   ]
  },
  {
   "cell_type": "code",
   "execution_count": null,
   "metadata": {},
   "outputs": [],
   "source": [
    "from sim_vars import ds_parts_useful_path, NB_ENSEMBLES\n",
    "import netCDF4 as nc\n",
    "import numpy as np\n",
    "import seaborn as sns\n",
    "\n",
    "ds_parts_ensembles = nc.Dataset(ds_parts_useful_path)\n",
    "ds_parts_ensembles"
   ]
  },
  {
   "cell_type": "markdown",
   "metadata": {},
   "source": [
    "## Compute the last std_dev of total mass across ensemble members for a given simulation\n",
    "\n",
    "TODO"
   ]
  },
  {
   "cell_type": "code",
   "execution_count": null,
   "metadata": {},
   "outputs": [],
   "source": [
    "from sim_vars import ds_parts_ensembles_path, ds_parts_useful_path\n",
    "import netCDF4 as nc\n",
    "\n",
    "ds = nc.Dataset(ds_parts_ensembles_path)\n",
    "\n",
    "ds"
   ]
  },
  {
   "cell_type": "markdown",
   "metadata": {},
   "source": [
    "### Small code to sort files with numbers in the proper alphabetical order\n",
    "\n",
    "thingy_10.mp4 => thingy_0010.mp4\n",
    "\n",
    "thingy_100.mp4 => thingy_0100.mp4"
   ]
  },
  {
   "cell_type": "code",
   "execution_count": null,
   "metadata": {
    "tags": []
   },
   "outputs": [],
   "source": [
    "from sim_vars import output_dir_path\n",
    "import os\n",
    "import numpy as np\n",
    "\n",
    "files = np.array(os.listdir(output_dir_path))\n",
    "diffrefs = [s for s in files if \"from_ref\" in s]\n",
    "diffrefs.sort()\n",
    "diffrefs_new = diffrefs.copy()\n",
    "for i in range(len(diffrefs)):\n",
    "    s: str = diffrefs_new[i]\n",
    "    end_of_name_index = s.index('.')\n",
    "    zeros_to_add = 29 - end_of_name_index\n",
    "    s_new = s[:25] + zeros_to_add * '0' + s[25:]\n",
    "    os.rename(output_dir_path + s, output_dir_path + s_new)"
   ]
  },
  {
   "cell_type": "code",
   "execution_count": null,
   "metadata": {},
   "outputs": [],
   "source": [
    "from sim_vars import output_dir_path\n",
    "import os\n",
    "import numpy as np\n",
    "\n",
    "files = np.array(os.listdir(output_dir_path))\n",
    "diffrefs = [s for s in files if \"from_origin\" in s]\n",
    "diffrefs.sort()\n",
    "diffrefs_new = diffrefs.copy()\n",
    "for i in range(len(diffrefs)):\n",
    "    s: str = diffrefs_new[i]\n",
    "    end_of_name_index = s.index('.')\n",
    "    zeros_to_add = 32 - end_of_name_index\n",
    "    s_new = s[:28] + zeros_to_add * '0' + s[28:]\n",
    "    os.rename(output_dir_path + s, output_dir_path + s_new)"
   ]
  },
  {
   "cell_type": "code",
   "execution_count": null,
   "metadata": {},
   "outputs": [],
   "source": [
    "from sim_vars import output_dir_path\n",
    "import os\n",
    "import numpy as np\n",
    "\n",
    "files = np.array(os.listdir(\"movie_making/\"))\n",
    "diffrefs = [s for s in files if \"general\" in s]\n",
    "diffrefs.sort()\n",
    "diffrefs_new = diffrefs.copy()\n",
    "for i in range(len(diffrefs)):\n",
    "    s: str = diffrefs_new[i]\n",
    "    end_of_name_index = s.index('.')\n",
    "    zeros_to_add = 12 - end_of_name_index\n",
    "    s_new = s[:8] + zeros_to_add * '0' + s[8:]\n",
    "    os.rename(\"movie_making/\" + s, \"movie_making/\" + s_new)"
   ]
  },
  {
   "cell_type": "markdown",
   "metadata": {},
   "source": [
    "### Code to see how to animate 4 subplots with heatmaps"
   ]
  },
  {
   "cell_type": "code",
   "execution_count": null,
   "metadata": {},
   "outputs": [],
   "source": [
    "from celluloid import Camera\n",
    "import matplotlib.pyplot as plt\n",
    "import seaborn as sns\n",
    "import numpy as np\n",
    "\n",
    "fig, axs = plt.subplots(2,2,figsize=(15,15))\n",
    "camera = Camera(fig)\n",
    "sns.set_context(\"paper\")\n",
    "\n",
    "\n",
    "for t in range(5):\n",
    "    fig.clear()\n",
    "    axs = fig.subplots(2,2)\n",
    "    for i in range(2):\n",
    "        for j in range(2):\n",
    "            M = np.array([[1,2],[3,4]])\n",
    "            axs[i,j] = sns.heatmap(M, ax=axs[i,j])"
   ]
  },
  {
   "cell_type": "code",
   "execution_count": null,
   "metadata": {},
   "outputs": [],
   "source": [
    "import numpy as np"
   ]
  },
  {
   "cell_type": "code",
   "execution_count": null,
   "metadata": {},
   "outputs": [],
   "source": []
  },
  {
   "cell_type": "code",
   "execution_count": null,
   "metadata": {},
   "outputs": [],
   "source": []
  }
 ],
 "metadata": {
  "language_info": {
   "codemirror_mode": {
    "name": "ipython",
    "version": 3
   },
   "file_extension": ".py",
   "mimetype": "text/x-python",
   "name": "python",
   "nbconvert_exporter": "python",
   "pygments_lexer": "ipython3",
   "version": "3.8.5-final"
  },
  "orig_nbformat": 2,
  "kernelspec": {
   "name": "python3",
   "display_name": "Python 3.8.5 64-bit ('assimilation-plastic-p1OWX2qJ-py3.8')",
   "metadata": {
    "interpreter": {
     "hash": "136d7831d69e4b2918e5550ad184ae21f22da49ae2b6449a866932f39def81fa"
    }
   }
  }
 },
 "nbformat": 4,
 "nbformat_minor": 2
}