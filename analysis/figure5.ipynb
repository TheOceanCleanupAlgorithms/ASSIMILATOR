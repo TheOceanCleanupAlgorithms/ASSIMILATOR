{
 "metadata": {
  "language_info": {
   "codemirror_mode": {
    "name": "ipython",
    "version": 3
   },
   "file_extension": ".py",
   "mimetype": "text/x-python",
   "name": "python",
   "nbconvert_exporter": "python",
   "pygments_lexer": "ipython3",
   "version": "3.8.5-final"
  },
  "orig_nbformat": 2,
  "kernelspec": {
   "name": "python_defaultSpec_1599343592674",
   "display_name": "Python 3.8.3 64-bit ('assimilation-plastic-p1OWX2qJ-py3.8': venv)"
  }
 },
 "nbformat": 4,
 "nbformat_minor": 2,
 "cells": [
  {
   "cell_type": "code",
   "execution_count": null,
   "metadata": {
    "tags": []
   },
   "outputs": [],
   "source": [
    "import matplotlib.pyplot as plt\n",
    "import numpy as np\n",
    "\n",
    "A = 0.1\n",
    "epsilon = 0.1\n",
    "omega = 2 * np.pi / 10\n",
    "\n",
    "def a(t):\n",
    "    return epsilon * np.sin(omega * t)\n",
    "\n",
    "def b(t):\n",
    "    return 1 - 2 * a(t)\n",
    "\n",
    "def f(x,t):\n",
    "    return a(t) * x ** 2 + b(t) * x\n",
    "\n",
    "t0 = 2.5\n",
    "\n",
    "def u(x,y,t):\n",
    "    return - np.pi * A * np.sin(np.pi * f(x,t)) * np.cos(np.pi * y)\n",
    "\n",
    "def v(x,y,t):\n",
    "    return np.pi * A * np.cos(np.pi * f(x,t)) * np.sin(np.pi * y) * (2 * a(t) * x + b(t))\n",
    "\n",
    "X = np.arange(0,2,0.075)\n",
    "Y = np.arange(0,1,0.075)\n",
    "\n",
    "lX, lY = np.meshgrid(X,Y)\n",
    "\n",
    "U, V = np.zeros(lX.shape), np.zeros(lX.shape)\n",
    "\n",
    "for x in range(len(lX[0])):\n",
    "    for y in range(len(lX)):\n",
    "        U[y,x] = u(X[x],Y[y],t0)\n",
    "        V[y,x] = v(X[x],Y[y],t0)\n",
    "\n",
    "lX"
   ]
  },
  {
   "cell_type": "code",
   "execution_count": null,
   "metadata": {},
   "outputs": [],
   "source": [
    "fig, ax = plt.subplots(figsize=(12,8))\n",
    "q = ax.quiver(X,Y,U,V, scale=8)\n",
    "ax.set_title(\"Double gyre currents at $t=\" + str(t0) + \"$s for $\\epsilon=\" + str(epsilon) + \"$\")\n",
    "fig.savefig(\"figure5/A_\" + str(A) + \"_eps_\" + str(epsilon) + \"_omega_\" + str(omega) + \"_t_\" + str(t0) + \".png\")"
   ]
  },
  {
   "cell_type": "code",
   "execution_count": null,
   "metadata": {},
   "outputs": [],
   "source": []
  },
  {
   "cell_type": "code",
   "execution_count": null,
   "metadata": {},
   "outputs": [],
   "source": []
  }
 ]
}