{
 "metadata": {
  "language_info": {
   "codemirror_mode": {
    "name": "ipython",
    "version": 3
   },
   "file_extension": ".py",
   "mimetype": "text/x-python",
   "name": "python",
   "nbconvert_exporter": "python",
   "pygments_lexer": "ipython3",
   "version": "3.8.5-final"
  },
  "orig_nbformat": 2,
  "kernelspec": {
   "name": "Python 3.8.5 64-bit",
   "display_name": "Python 3.8.5 64-bit",
   "metadata": {
    "interpreter": {
     "hash": "e46ff8ef368083836fc9c30ee5e3087758cc0ce6a78f0067ad0517f06cc67ee9"
    }
   }
  }
 },
 "nbformat": 4,
 "nbformat_minor": 2,
 "cells": [
  {
   "cell_type": "code",
   "execution_count": null,
   "metadata": {},
   "outputs": [],
   "source": [
    "import seaborn as sns\n",
    "import numpy as np\n",
    "import netCDF4 as nc\n",
    "from sim_vars import ds_densities_ensembles_path, ds_densities_ref_path\n",
    "import pandas as pd\n",
    "\n",
    "tStart = 0\n",
    "tEnd = 1900\n",
    "\n",
    "ds_densities_ensembles = nc.Dataset(ds_densities_ensembles_path, \"r\")\n",
    "densities_ensembles = ds_densities_ensembles[\"density\"][:, :, :, tStart: tStart + tEnd + 1]\n",
    "ds_densities_ensembles.close()\n",
    "\n",
    "avgs_densities = np.average(densities_ensembles[:,:,:,np.arange(tEnd + 1)], axis=0)\n",
    "\n",
    "ds_densities_ref = nc.Dataset(ds_densities_ref_path)\n",
    "densities_ref = ds_densities_ref[\"density\"][:,:,:]\n",
    "\n",
    "densities_difference_to_ref = avgs_densities - densities_ref[:, :, tStart: tStart + tEnd + 1]\n",
    "densities_difference_to_ref_abs = np.abs(densities_difference_to_ref)\n",
    "\n",
    "selectedTimeSteps = [0,1,5,10,50,200,500,1000,1900]\n",
    "\n",
    "data = pd.DataFrame()\n",
    "for k in selectedTimeSteps:\n",
    "    data[k] = densities_difference_to_ref_abs[:,:,k].flatten()"
   ]
  },
  {
   "cell_type": "code",
   "execution_count": null,
   "metadata": {},
   "outputs": [],
   "source": [
    "import matplotlib.pyplot as plt\n",
    "from sim_vars import end_code_path\n",
    "\n",
    "sns.set(style=\"whitegrid\")\n",
    "sns.set_context(\"talk\")\n",
    "fig = plt.figure(figsize=(16, 10))\n",
    "ax = sns.boxplot(data=data[selectedTimeSteps], color=\"0.75\", showmeans=True)\n",
    "ax.set(xlabel=\"Iteration count \\n\", ylabel=\"Absolute density difference\")\n",
    "# ax.set(title=\"Evolution of density differences between forecast and real situation \\n\" + end_code_path)\n",
    "fig.savefig(\"figure4_untouched.png\")"
   ]
  },
  {
   "cell_type": "code",
   "execution_count": null,
   "metadata": {},
   "outputs": [],
   "source": []
  }
 ]
}