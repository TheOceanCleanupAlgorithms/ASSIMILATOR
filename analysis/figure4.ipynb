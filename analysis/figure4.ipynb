{
 "metadata": {
  "language_info": {
   "codemirror_mode": {
    "name": "ipython",
    "version": 3
   },
   "file_extension": ".py",
   "mimetype": "text/x-python",
   "name": "python",
   "nbconvert_exporter": "python",
   "pygments_lexer": "ipython3",
   "version": "3.8.8-final"
  },
  "orig_nbformat": 2,
  "kernelspec": {
   "name": "python3",
   "display_name": "Python 3",
   "language": "python"
  }
 },
 "nbformat": 4,
 "nbformat_minor": 2,
 "cells": [
  {
   "cell_type": "code",
   "execution_count": null,
   "metadata": {},
   "outputs": [],
   "source": [
    "sim_name = \"mu_2_A_0.1175_eps_0.25_sigma_rel_0.01\"\n",
    "data_folder = f\"../data/data_{sim_name}\"\n",
    "\n",
    "ds_parts_ensembles_path = f\"{data_folder}/parts_ensemble_{sim_name}.nc\"\n",
    "ds_densities_ref_path = f\"{data_folder}/densities_ref_{sim_name}.nc\"\n",
    "ds_densities_ensemble_path = f\"{data_folder}/densities_ensemble_{sim_name}.nc\""
   ]
  },
  {
   "cell_type": "code",
   "execution_count": null,
   "metadata": {},
   "outputs": [],
   "source": [
    "import seaborn as sns\n",
    "import numpy as np\n",
    "import netCDF4 as nc\n",
    "import pandas as pd\n",
    "\n",
    "tStart = 0\n",
    "tEnd = 1900\n",
    "\n",
    "ds_densities_ensemble = nc.Dataset(ds_densities_ensemble_path, \"r\")\n",
    "densities_ensemble = ds_densities_ensemble[\"density\"][:, :, :, tStart: tStart + tEnd + 1]\n",
    "ds_densities_ensemble.close()\n",
    "\n",
    "avgs_densities = np.average(densities_ensemble[:,:,:,np.arange(tEnd + 1)], axis=0)\n",
    "\n",
    "ds_densities_ref = nc.Dataset(ds_densities_ref_path)\n",
    "densities_ref = ds_densities_ref[\"density\"][:,:,:]\n",
    "\n",
    "densities_difference_to_ref = avgs_densities - densities_ref[:, :, tStart: tStart + tEnd + 1]\n",
    "densities_difference_to_ref_abs = np.abs(densities_difference_to_ref)\n",
    "\n",
    "selectedTimeSteps = [0,1,5,10,50,200,500,1000,1900]\n",
    "\n",
    "data = pd.DataFrame()\n",
    "for k in selectedTimeSteps:\n",
    "    data[k] = densities_difference_to_ref_abs[:,:,k].flatten()"
   ]
  },
  {
   "cell_type": "code",
   "execution_count": null,
   "metadata": {},
   "outputs": [],
   "source": [
    "import matplotlib.pyplot as plt\n",
    "\n",
    "sns.set(style=\"whitegrid\")\n",
    "sns.set_context(\"talk\")\n",
    "fig = plt.figure(figsize=(16, 10))\n",
    "ax = sns.boxplot(data=data[selectedTimeSteps], color=\"0.75\", showmeans=True)\n",
    "ax.set(xlabel=\"Iteration count \\n\", ylabel=\"Absolute density difference\")\n",
    "fig.savefig(\"figure4.png\")"
   ]
  },
  {
   "cell_type": "code",
   "execution_count": null,
   "metadata": {},
   "outputs": [],
   "source": []
  }
 ]
}