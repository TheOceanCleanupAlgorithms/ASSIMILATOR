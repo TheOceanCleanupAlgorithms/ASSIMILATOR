{
 "cells": [
  {
   "cell_type": "code",
   "execution_count": null,
   "metadata": {},
   "outputs": [],
   "source": [
    "sim_name = \"mu_2_A_0.1175_eps_0.25_sigma_rel_0.01\"\n",
    "data_folder = f\"../data/data_{sim_name}\"\n",
    "\n",
    "ds_parts_ensembles_path = f\"{data_folder}/parts_ensemble_{sim_name}.nc\"\n",
    "ds_densities_ref_path = f\"{data_folder}/densities_ref_{sim_name}.nc\""
   ]
  },
  {
   "cell_type": "code",
   "execution_count": null,
   "metadata": {},
   "outputs": [],
   "source": [
    "import netCDF4 as nc\n",
    "import seaborn as sns\n",
    "import matplotlib.pyplot as plt\n",
    "\n",
    "t=0\n",
    "ds1 = nc.Dataset(ds_parts_ensembles_path)\n",
    "fig, ax = plt.subplots(figsize=(12,8))\n",
    "sns.scatterplot(ds1['lon'][:,t], ds1['lat'][:,t], size=ds1['weight'][2,:], alpha=1, markers=False)\n",
    "ds1"
   ]
  },
  {
   "cell_type": "code",
   "execution_count": null,
   "metadata": {},
   "outputs": [],
   "source": [
    "import numpy as np\n",
    "\n",
    "fig, ax = plt.subplots(figsize=(14,8))\n",
    "ds = nc.Dataset(ds_densities_ref_path)\n",
    "sns.heatmap(np.flip(ds['density'][:,:,t].T, axis=0), robust=True, cmap=sns.cubehelix_palette(64, light=1, reverse=False))\n",
    "plt.xticks([])\n",
    "plt.yticks([])"
   ]
  },
  {
   "cell_type": "code",
   "execution_count": null,
   "metadata": {},
   "outputs": [],
   "source": [
    "import numpy as np\n",
    "\n",
    "fig, (ax1, ax2) = plt.subplots(1, 2, figsize=(24,8))\n",
    "ax1.scatter((ds1['lon'][:,t] - 195) / 30, (ds1['lat'][:,t] - 20) / 20, c=\"grey\", s=1)\n",
    "ax1.set_xticks([])\n",
    "ax1.set_yticks([])\n",
    "ax1.set_xlim((0,1))\n",
    "ax1.set_ylim((0,1))\n",
    "ax1.set_axis_off()\n",
    "sns.heatmap(np.flip(ds['density'][:,:,t].T, axis=0), robust=True, ax=ax2, cmap=sns.cubehelix_palette(50, hue=0.05, rot=0, light=0.9, dark=0))\n",
    "ax2.set_xticks([])\n",
    "ax2.set_yticks([])\n",
    "fig.savefig(\"figure1.png\")"
   ]
  },
  {
   "cell_type": "code",
   "execution_count": null,
   "metadata": {},
   "outputs": [],
   "source": []
  },
  {
   "cell_type": "code",
   "execution_count": null,
   "metadata": {},
   "outputs": [],
   "source": []
  }
 ],
 "metadata": {
  "language_info": {
   "codemirror_mode": {
    "name": "ipython",
    "version": 3
   },
   "file_extension": ".py",
   "mimetype": "text/x-python",
   "name": "python",
   "nbconvert_exporter": "python",
   "pygments_lexer": "ipython3",
   "version": "3.8.8-final"
  },
  "orig_nbformat": 2,
  "kernelspec": {
   "name": "python3",
   "display_name": "Python 3",
   "language": "python"
  }
 },
 "nbformat": 4,
 "nbformat_minor": 2
}