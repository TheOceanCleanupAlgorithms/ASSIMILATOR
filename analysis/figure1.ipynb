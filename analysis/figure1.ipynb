{
 "cells": [
  {
   "cell_type": "code",
   "execution_count": null,
   "metadata": {},
   "outputs": [],
   "source": [
    "import netCDF4 as nc\n",
    "import seaborn as sns\n",
    "import matplotlib.pyplot as plt\n",
    "from sim_vars import ds_parts_ensembles_path\n",
    "\n",
    "t=0\n",
    "ds1 = nc.Dataset(ds_parts_ensembles_path)\n",
    "fig, ax = plt.subplots(figsize=(12,8))\n",
    "sns.scatterplot(ds1['lon'][:,t], ds1['lat'][:,t], size=ds1['weight'][2,:], alpha=1, markers=False)\n",
    "ds1"
   ]
  },
  {
   "cell_type": "code",
   "execution_count": null,
   "metadata": {},
   "outputs": [],
   "source": [
    "fig, (ax1, ax2) = plt.subplots(1, 2, figsize=(24,8))\n",
    "ax1.scatter((ds1['lon'][:,t] - 195) / 30, (ds1['lat'][:,t] - 20) / 20, c=\"grey\", s=1)\n",
    "ax1.set_xticks([])\n",
    "ax1.set_yticks([])\n",
    "ax1.set_xlim((0,1))\n",
    "ax1.set_ylim((0,1))\n",
    "ax1.set_axis_off()\n",
    "sns.heatmap(np.flip(ds['density'][:,:,t].T, axis=0), robust=True, cmap=sns.cubehelix_palette(64, light=1, reverse=False), ax=ax2, cbar=False)\n",
    "ax2.set_xticks([])\n",
    "ax2.set_yticks([])\n",
    "fig.savefig(\"figure1.png\")"
   ]
  },
  {
   "cell_type": "code",
   "execution_count": null,
   "metadata": {},
   "outputs": [],
   "source": [
    "from sim_vars import ds_densities_ref_path\n",
    "import numpy as np\n",
    "\n",
    "fig, ax = plt.subplots(figsize=(14,8))\n",
    "ds = nc.Dataset(ds_densities_ref_path)\n",
    "sns.heatmap(np.flip(ds['density'][:,:,t].T, axis=0), robust=True, cmap=sns.cubehelix_palette(64, light=1, reverse=False))\n",
    "plt.xticks([])\n",
    "plt.yticks([])"
   ]
  },
  {
   "cell_type": "code",
   "execution_count": null,
   "metadata": {},
   "outputs": [],
   "source": []
  },
  {
   "cell_type": "code",
   "execution_count": null,
   "metadata": {},
   "outputs": [],
   "source": []
  }
 ],
 "metadata": {
  "language_info": {
   "codemirror_mode": {
    "name": "ipython",
    "version": 3
   },
   "file_extension": ".py",
   "mimetype": "text/x-python",
   "name": "python",
   "nbconvert_exporter": "python",
   "pygments_lexer": "ipython3",
   "version": "3.8.5-final"
  },
  "orig_nbformat": 2,
  "kernelspec": {
   "name": "Python 3.8.5 64-bit ('assimilation-plastic-p1OWX2qJ-py3.8')",
   "display_name": "Python 3.8.5 64-bit ('assimilation-plastic-p1OWX2qJ-py3.8')",
   "metadata": {
    "interpreter": {
     "hash": "136d7831d69e4b2918e5550ad184ae21f22da49ae2b6449a866932f39def81fa"
    }
   }
  }
 },
 "nbformat": 4,
 "nbformat_minor": 2
}